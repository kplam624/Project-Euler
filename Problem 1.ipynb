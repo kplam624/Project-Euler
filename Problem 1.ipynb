{
 "cells": [
  {
   "cell_type": "code",
   "execution_count": 1,
   "metadata": {},
   "outputs": [],
   "source": [
    "# Code for Problem 1\n",
    "\n",
    "# If we list all the natural numbers below 10 that are multiples of 3 or 5, we get 3, 5, 6 and 9.\n",
    "# The sum of these multiples is 23.\n",
    "# Find the sum of all the multiples of 3 or 5 below 1000."
   ]
  },
  {
   "cell_type": "code",
   "execution_count": 2,
   "metadata": {},
   "outputs": [
    {
     "data": {
      "text/plain": [
       "23"
      ]
     },
     "execution_count": 2,
     "metadata": {},
     "output_type": "execute_result"
    }
   ],
   "source": [
    "# We will use the modulo method to find the multiples of 3 or 5.\n",
    "# We can create an empty list to hold the values.\n",
    "\n",
    "mult = []\n",
    "\n",
    "# We create a for loop to go through the values needed.\n",
    "# Test code.\n",
    "\n",
    "for i in range(1,10):\n",
    "    if (i % 3 == 0)|(i % 5 == 0):\n",
    "        mult.append(i)\n",
    "# Checking the sum to see if it matches the given.\n",
    "sum(mult)"
   ]
  },
  {
   "cell_type": "code",
   "execution_count": 3,
   "metadata": {},
   "outputs": [
    {
     "data": {
      "text/plain": [
       "233168"
      ]
     },
     "execution_count": 3,
     "metadata": {},
     "output_type": "execute_result"
    }
   ],
   "source": [
    "# Submission code.\n",
    "\n",
    "mult = []\n",
    "\n",
    "for i in range(1,1000):\n",
    "    if (i % 3 == 0)|(i % 5 == 0):\n",
    "        if i not in mult:\n",
    "            mult.append(i)\n",
    "\n",
    "sum(mult)"
   ]
  },
  {
   "cell_type": "markdown",
   "metadata": {},
   "source": [
    "Submission Correct"
   ]
  },
  {
   "cell_type": "code",
   "execution_count": null,
   "metadata": {},
   "outputs": [],
   "source": []
  }
 ],
 "metadata": {
  "kernelspec": {
   "display_name": "Python 3",
   "language": "python",
   "name": "python3"
  },
  "language_info": {
   "codemirror_mode": {
    "name": "ipython",
    "version": 3
   },
   "file_extension": ".py",
   "mimetype": "text/x-python",
   "name": "python",
   "nbconvert_exporter": "python",
   "pygments_lexer": "ipython3",
   "version": "3.7.7"
  }
 },
 "nbformat": 4,
 "nbformat_minor": 4
}
