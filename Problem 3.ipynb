{
 "cells": [
  {
   "cell_type": "code",
   "execution_count": 1,
   "metadata": {},
   "outputs": [],
   "source": [
    "# The prime factors of 13195 are 5, 7, 13 and 29.\n",
    "\n",
    "# What is the largest prime factor of the number 600851475143 ?"
   ]
  },
  {
   "cell_type": "code",
   "execution_count": 2,
   "metadata": {
    "scrolled": true
   },
   "outputs": [],
   "source": [
    "# Test code\n",
    "\n",
    "# We need a list of prime numbers\n",
    "prime = [1]\n",
    "for i in range(2,13195):\n",
    "    count = 0\n",
    "    if i not in prime:\n",
    "        prime.append(i)\n",
    "    for j in prime:\n",
    "        if i % j == 0:\n",
    "            count += 1\n",
    "            if count == 3:\n",
    "                prime.pop()"
   ]
  },
  {
   "cell_type": "code",
   "execution_count": 3,
   "metadata": {},
   "outputs": [
    {
     "data": {
      "text/plain": [
       "[5, 7, 13, 29]"
      ]
     },
     "execution_count": 3,
     "metadata": {},
     "output_type": "execute_result"
    }
   ],
   "source": [
    "# With the list of prime numbers we now create a list of factors\n",
    "factor = []\n",
    "num = 13195\n",
    "for k in prime:\n",
    "    if num % k == 0:\n",
    "        factor.append(k)\n",
    "factor.pop(0)\n",
    "factor"
   ]
  },
  {
   "cell_type": "code",
   "execution_count": null,
   "metadata": {},
   "outputs": [],
   "source": [
    "# Submission\n",
    "num = 600851475143\n",
    "prime = [1]\n",
    "\n",
    "# Due to the num being 12-digits, besides itself there wont be a prime factor greater than 1000000\n",
    "for i in range(2,1000000):\n",
    "    count = 0\n",
    "    if i not in prime:\n",
    "        prime.append(i)\n",
    "# Prime numbers have only two factors 1 and itself    \n",
    "    for j in prime:\n",
    "        if i % j == 0:\n",
    "            count += 1\n",
    "            if count == 3:\n",
    "                prime.pop()\n",
    "\n",
    "# To test the prime numbers\n",
    "factor = []\n",
    "for k in prime:\n",
    "    if num % k == 0:\n",
    "        factor.append(k)\n",
    "\n",
    "# To be sure that we have the largest factor we run it again\n",
    "# However we use the quotient instead of the original\n",
    "new_num = num/factor[-1]\n",
    "for k in prime:\n",
    "    if new_num % k == 0 and k not in factor:\n",
    "        factor.append(k)\n",
    "        \n",
    "# In otherwords if the factor is 1 then the number itself is prime.\n",
    "factor[-1]"
   ]
  },
  {
   "cell_type": "markdown",
   "metadata": {},
   "source": [
    "Submission Correct\n",
    "\n",
    "Other Considerations:\n",
    "\n",
    "Use the square root function"
   ]
  },
  {
   "cell_type": "code",
   "execution_count": null,
   "metadata": {},
   "outputs": [],
   "source": []
  }
 ],
 "metadata": {
  "kernelspec": {
   "display_name": "Python 3",
   "language": "python",
   "name": "python3"
  },
  "language_info": {
   "codemirror_mode": {
    "name": "ipython",
    "version": 3
   },
   "file_extension": ".py",
   "mimetype": "text/x-python",
   "name": "python",
   "nbconvert_exporter": "python",
   "pygments_lexer": "ipython3",
   "version": "3.7.7"
  }
 },
 "nbformat": 4,
 "nbformat_minor": 4
}
