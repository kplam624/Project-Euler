{
 "cells": [
  {
   "cell_type": "code",
   "execution_count": 1,
   "metadata": {},
   "outputs": [],
   "source": [
    "# The prime factors of 13195 are 5, 7, 13 and 29.\n",
    "\n",
    "# What is the largest prime factor of the number 600851475143 ?"
   ]
  },
  {
   "cell_type": "code",
   "execution_count": 20,
   "metadata": {
    "scrolled": true
   },
   "outputs": [],
   "source": [
    "# Test code\n",
    "\n",
    "# We need a list of prime numbers\n",
    "prime = [1]\n",
    "for i in range(2,13195):\n",
    "    count = 0\n",
    "    if i not in prime:\n",
    "        prime.append(i)\n",
    "    for j in prime:\n",
    "        if i % j == 0:\n",
    "            count += 1\n",
    "            if count == 3:\n",
    "                prime.pop()"
   ]
  },
  {
   "cell_type": "code",
   "execution_count": 3,
   "metadata": {},
   "outputs": [
    {
     "data": {
      "text/plain": [
       "[5, 7, 13, 29]"
      ]
     },
     "execution_count": 3,
     "metadata": {},
     "output_type": "execute_result"
    }
   ],
   "source": [
    "# With the list of prime numbers we now create a list of factors\n",
    "factor = []\n",
    "num = 13195\n",
    "for k in prime:\n",
    "    if num % k == 0:\n",
    "        factor.append(k)\n",
    "factor.pop(0)\n",
    "factor"
   ]
  },
  {
   "cell_type": "code",
   "execution_count": 31,
   "metadata": {},
   "outputs": [],
   "source": [
    "# Submission\n",
    "num = 600851475143\n",
    "prime = [1]\n",
    "\n",
    "for i in range(2,100000):\n",
    "    count = 0\n",
    "    if i not in prime:\n",
    "        prime.append(i)\n",
    "    for j in prime:\n",
    "        if i % j == 0:\n",
    "            count += 1\n",
    "            if count == 3:\n",
    "                prime.pop()"
   ]
  },
  {
   "cell_type": "code",
   "execution_count": 36,
   "metadata": {},
   "outputs": [
    {
     "data": {
      "text/plain": [
       "6857"
      ]
     },
     "execution_count": 36,
     "metadata": {},
     "output_type": "execute_result"
    }
   ],
   "source": [
    "factor = []\n",
    "for k in prime:\n",
    "    if num % k == 0:\n",
    "        factor.append(k)\n",
    "factor[-1]"
   ]
  },
  {
   "cell_type": "code",
   "execution_count": 17,
   "metadata": {},
   "outputs": [],
   "source": [
    "new_num = num/factor[-1]"
   ]
  },
  {
   "cell_type": "code",
   "execution_count": 39,
   "metadata": {},
   "outputs": [
    {
     "data": {
      "text/plain": [
       "[1, 71, 839, 1471, 6857]"
      ]
     },
     "execution_count": 39,
     "metadata": {},
     "output_type": "execute_result"
    }
   ],
   "source": [
    "factor"
   ]
  },
  {
   "cell_type": "code",
   "execution_count": 38,
   "metadata": {},
   "outputs": [
    {
     "data": {
      "text/plain": [
       "6857"
      ]
     },
     "execution_count": 38,
     "metadata": {},
     "output_type": "execute_result"
    }
   ],
   "source": [
    "for k in prime:\n",
    "    if new_num % k == 0 and k not in factor:\n",
    "        factor.append(k)\n",
    "factor[-1]"
   ]
  },
  {
   "cell_type": "code",
   "execution_count": 25,
   "metadata": {},
   "outputs": [
    {
     "data": {
      "text/plain": [
       "87625999.0"
      ]
     },
     "execution_count": 25,
     "metadata": {},
     "output_type": "execute_result"
    }
   ],
   "source": [
    "new_num"
   ]
  },
  {
   "cell_type": "code",
   "execution_count": 40,
   "metadata": {},
   "outputs": [
    {
     "name": "stdout",
     "output_type": "stream",
     "text": [
      "87625999.0\n",
      "1234169.0\n",
      "104441.0\n",
      "59569.0\n",
      "12779.05775120315\n"
     ]
    }
   ],
   "source": [
    "for k in factor:\n",
    "    print(new_num/k)"
   ]
  },
  {
   "cell_type": "code",
   "execution_count": 43,
   "metadata": {},
   "outputs": [],
   "source": [
    "newer = new_num/factor[3]"
   ]
  },
  {
   "cell_type": "code",
   "execution_count": 44,
   "metadata": {},
   "outputs": [
    {
     "data": {
      "text/plain": [
       "6857"
      ]
     },
     "execution_count": 44,
     "metadata": {},
     "output_type": "execute_result"
    }
   ],
   "source": [
    "for k in prime:\n",
    "    if newer % k == 0 and k not in factor:\n",
    "        factor.append(k)\n",
    "factor[-1]"
   ]
  },
  {
   "cell_type": "code",
   "execution_count": 45,
   "metadata": {},
   "outputs": [
    {
     "name": "stdout",
     "output_type": "stream",
     "text": [
      "59569.0\n",
      "839.0\n",
      "71.0\n",
      "40.49558123725357\n",
      "8.687326819308735\n"
     ]
    }
   ],
   "source": [
    "for k in factor:\n",
    "    print(newer/k)"
   ]
  },
  {
   "cell_type": "code",
   "execution_count": null,
   "metadata": {},
   "outputs": [],
   "source": []
  }
 ],
 "metadata": {
  "kernelspec": {
   "display_name": "Python 3",
   "language": "python",
   "name": "python3"
  },
  "language_info": {
   "codemirror_mode": {
    "name": "ipython",
    "version": 3
   },
   "file_extension": ".py",
   "mimetype": "text/x-python",
   "name": "python",
   "nbconvert_exporter": "python",
   "pygments_lexer": "ipython3",
   "version": "3.7.7"
  }
 },
 "nbformat": 4,
 "nbformat_minor": 4
}
